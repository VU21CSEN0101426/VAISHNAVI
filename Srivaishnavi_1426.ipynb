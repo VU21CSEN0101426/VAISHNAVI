{
  "nbformat": 4,
  "nbformat_minor": 0,
  "metadata": {
    "colab": {
      "name": "Srivaishnavi. 1426",
      "provenance": [],
      "authorship_tag": "ABX9TyP9z3J3MUfqSrOH6K1Axtuo",
      "include_colab_link": true
    },
    "kernelspec": {
      "name": "python3",
      "display_name": "Python 3"
    },
    "language_info": {
      "name": "python"
    }
  },
  "cells": [
    {
      "cell_type": "markdown",
      "metadata": {
        "id": "view-in-github",
        "colab_type": "text"
      },
      "source": [
        "<a href=\"https://colab.research.google.com/github/VU21CSEN0101426/VAISHNAVI/blob/main/Srivaishnavi_1426.ipynb\" target=\"_parent\"><img src=\"https://colab.research.google.com/assets/colab-badge.svg\" alt=\"Open In Colab\"/></a>"
      ]
    },
    {
      "cell_type": "code",
      "source": [
        "names=[\"shiva\",\"ram\",\"keerthi\",\"ravi\",\"uma\"]\n",
        "print(names[3:5])"
      ],
      "metadata": {
        "colab": {
          "base_uri": "https://localhost:8080/"
        },
        "id": "d9AkFmEs1Okv",
        "outputId": "4548dd28-1577-4cb9-ed82-279720515cde"
      },
      "execution_count": 1,
      "outputs": [
        {
          "output_type": "stream",
          "name": "stdout",
          "text": [
            "['ravi', 'uma']\n"
          ]
        }
      ]
    },
    {
      "cell_type": "code",
      "source": [
        "names=[\"shiva\",\"ram\",\"keerthi\",\"ravi\",\"uma\"]\n",
        "print(names[:3])"
      ],
      "metadata": {
        "colab": {
          "base_uri": "https://localhost:8080/"
        },
        "id": "fQqGliLc1tmW",
        "outputId": "8fe26952-d830-4e93-c064-1f20b9643b4c"
      },
      "execution_count": 2,
      "outputs": [
        {
          "output_type": "stream",
          "name": "stdout",
          "text": [
            "['shiva', 'ram', 'keerthi']\n"
          ]
        }
      ]
    },
    {
      "cell_type": "code",
      "source": [
        "names=[\"shiva\",\"ram\",\"keerthi\",\"ravi\",\"uma\"]\n",
        "print(names[2:])"
      ],
      "metadata": {
        "colab": {
          "base_uri": "https://localhost:8080/"
        },
        "id": "vLMBV_K5153x",
        "outputId": "d0f61283-ecab-45eb-b0ec-725229ae6773"
      },
      "execution_count": 3,
      "outputs": [
        {
          "output_type": "stream",
          "name": "stdout",
          "text": [
            "['keerthi', 'ravi', 'uma']\n"
          ]
        }
      ]
    },
    {
      "cell_type": "code",
      "source": [
        "names=[\"shiva\",\"ram\",\"keerthi\",\"ravi\",\"uma\"]\n",
        "print(names[-3:-1])"
      ],
      "metadata": {
        "colab": {
          "base_uri": "https://localhost:8080/"
        },
        "id": "cPYBpGB72MkA",
        "outputId": "b772f16e-7eb5-4ed4-d361-063b1fd24100"
      },
      "execution_count": 4,
      "outputs": [
        {
          "output_type": "stream",
          "name": "stdout",
          "text": [
            "['keerthi', 'ravi']\n"
          ]
        }
      ]
    },
    {
      "cell_type": "code",
      "source": [
        "names=[\"shiva\",\"ram\",\"keerthi\",\"ravi\",\"uma\"]\n",
        "if \"shiva\" in names:\n",
        "  print(\"yes,'shiva' is in names list\")"
      ],
      "metadata": {
        "colab": {
          "base_uri": "https://localhost:8080/"
        },
        "id": "w5yhYuxq2R4N",
        "outputId": "4c26bbc2-4c71-4f47-a5fc-253302f21162"
      },
      "execution_count": 11,
      "outputs": [
        {
          "output_type": "stream",
          "name": "stdout",
          "text": [
            "yes,'shiva' is in names list\n"
          ]
        }
      ]
    },
    {
      "cell_type": "code",
      "source": [
        "names=[\"shiva\",\"ram\",\"keerthi\",\"ravi\",\"uma\"]\n",
        "names[3]=\"ramu\"\n",
        "print(names)"
      ],
      "metadata": {
        "colab": {
          "base_uri": "https://localhost:8080/"
        },
        "id": "23hPpU5E28ze",
        "outputId": "95e59cbc-a5c5-4044-d4e3-011b5351bcbe"
      },
      "execution_count": 13,
      "outputs": [
        {
          "output_type": "stream",
          "name": "stdout",
          "text": [
            "['shiva', 'ram', 'keerthi', 'ramu', 'uma']\n"
          ]
        }
      ]
    },
    {
      "cell_type": "code",
      "source": [
        "names=[\"shiva\",\"ram\",\"keerthi\",\"ravi\",\"uma\"]\n",
        "names[1:3]=[\"sri\",\"ramu\"]\n",
        "print(names)"
      ],
      "metadata": {
        "colab": {
          "base_uri": "https://localhost:8080/"
        },
        "id": "n0aM1kdP3TUD",
        "outputId": "9099f914-615a-4b8d-c33d-3fa2950b3ac3"
      },
      "execution_count": 14,
      "outputs": [
        {
          "output_type": "stream",
          "name": "stdout",
          "text": [
            "['shiva', 'sri', 'ramu', 'ravi', 'uma']\n"
          ]
        }
      ]
    },
    {
      "cell_type": "code",
      "source": [
        "names=[\"shiva\",\"ram\",\"keerthi\",\"ravi\",\"uma\"]\n",
        "names.insert(5,\"sri\")\n",
        "print(names)"
      ],
      "metadata": {
        "colab": {
          "base_uri": "https://localhost:8080/"
        },
        "id": "3UQKlIs63jXf",
        "outputId": "71e530d1-d74c-48ef-f0d9-1b7dba31c625"
      },
      "execution_count": 16,
      "outputs": [
        {
          "output_type": "stream",
          "name": "stdout",
          "text": [
            "['shiva', 'ram', 'keerthi', 'ravi', 'uma', 'sri']\n"
          ]
        }
      ]
    },
    {
      "cell_type": "code",
      "source": [
        "names=[\"shiva\",\"ram\",\"keerthi\",\"ravi\",\"uma\"]\n",
        "names.append(\"sri\")\n",
        "print(names)"
      ],
      "metadata": {
        "colab": {
          "base_uri": "https://localhost:8080/"
        },
        "id": "lt4zdM2y350Q",
        "outputId": "7e617cb9-f57d-4d28-bef9-30191b0f1dc4"
      },
      "execution_count": 20,
      "outputs": [
        {
          "output_type": "stream",
          "name": "stdout",
          "text": [
            "['shiva', 'ram', 'keerthi', 'ravi', 'uma', 'sri']\n"
          ]
        }
      ]
    },
    {
      "cell_type": "code",
      "source": [
        "names=[\"shiva\",\"ram\",\"keerthi\",\"ravi\",\"uma\"]\n",
        "fruits=[\"apple\",\"orange\",\"mango\",\"banana\"]\n",
        "names.extend(fruits)\n",
        "print(names)"
      ],
      "metadata": {
        "colab": {
          "base_uri": "https://localhost:8080/"
        },
        "id": "Pnh-ysKz4bf5",
        "outputId": "2cf1b9f6-3491-44f9-bcab-a19f14aa99c9"
      },
      "execution_count": 23,
      "outputs": [
        {
          "output_type": "stream",
          "name": "stdout",
          "text": [
            "['shiva', 'ram', 'keerthi', 'ravi', 'uma', 'apple', 'orange', 'mango', 'banana']\n"
          ]
        }
      ]
    },
    {
      "cell_type": "code",
      "source": [
        "names=[\"shiva\",\"ram\",\"keerthi\",\"ravi\",\"uma\"]\n",
        "names.remove(\"ram\")\n",
        "print(names)"
      ],
      "metadata": {
        "colab": {
          "base_uri": "https://localhost:8080/"
        },
        "id": "BW0senhB5BlQ",
        "outputId": "d1fb68bb-6bfc-4932-9ba9-58e0d27f2d9a"
      },
      "execution_count": 24,
      "outputs": [
        {
          "output_type": "stream",
          "name": "stdout",
          "text": [
            "['shiva', 'keerthi', 'ravi', 'uma']\n"
          ]
        }
      ]
    },
    {
      "cell_type": "code",
      "source": [
        "names=[\"shiva\",\"ram\",\"keerthi\",\"ravi\",\"uma\"]\n",
        "names.pop(2)\n",
        "print(names)"
      ],
      "metadata": {
        "colab": {
          "base_uri": "https://localhost:8080/"
        },
        "id": "_Yl9Eyp55MH9",
        "outputId": "12015e25-31b5-4cd0-d545-91d9f1c69844"
      },
      "execution_count": 26,
      "outputs": [
        {
          "output_type": "stream",
          "name": "stdout",
          "text": [
            "['shiva', 'ram', 'ravi', 'uma']\n"
          ]
        }
      ]
    },
    {
      "cell_type": "code",
      "source": [
        "names=[\"shiva\",\"ram\",\"keerthi\",\"ravi\",\"uma\"]\n",
        "names.pop()\n",
        "print(names)"
      ],
      "metadata": {
        "colab": {
          "base_uri": "https://localhost:8080/"
        },
        "id": "nP6qsmqI5Xm2",
        "outputId": "4613e603-a3b3-4cb0-ccb5-0e8273d693a3"
      },
      "execution_count": 27,
      "outputs": [
        {
          "output_type": "stream",
          "name": "stdout",
          "text": [
            "['shiva', 'ram', 'keerthi', 'ravi']\n"
          ]
        }
      ]
    },
    {
      "cell_type": "code",
      "source": [
        "names=[\"shiva\",\"ram\",\"keerthi\",\"ravi\",\"uma\"]\n",
        "names.clear()\n",
        "print(names)"
      ],
      "metadata": {
        "colab": {
          "base_uri": "https://localhost:8080/"
        },
        "id": "5r1r9w6B5mTd",
        "outputId": "e5807965-cb53-4e1f-c0f1-107047b15716"
      },
      "execution_count": 29,
      "outputs": [
        {
          "output_type": "stream",
          "name": "stdout",
          "text": [
            "[]\n"
          ]
        }
      ]
    },
    {
      "cell_type": "code",
      "source": [
        "names=[\"shiva\",\"ram\",\"keerthi\",\"ravi\",\"uma\"]\n",
        "for i in range(len(names)):\n",
        "  print(names[i])"
      ],
      "metadata": {
        "colab": {
          "base_uri": "https://localhost:8080/"
        },
        "id": "-t100OTO55NE",
        "outputId": "f60ec163-2a65-46b1-dc20-e400aa258e95"
      },
      "execution_count": 31,
      "outputs": [
        {
          "output_type": "stream",
          "name": "stdout",
          "text": [
            "shiva\n",
            "ram\n",
            "keerthi\n",
            "ravi\n",
            "uma\n"
          ]
        }
      ]
    },
    {
      "cell_type": "code",
      "source": [
        "names=[\"shiva\",\"Ram\",\"keerthi\",\"ravi\",\"Uma\"]\n",
        "names.sort()\n",
        "print(names)"
      ],
      "metadata": {
        "colab": {
          "base_uri": "https://localhost:8080/"
        },
        "id": "me5A-mOO6Zjg",
        "outputId": "0260b247-a7bc-4a0d-e689-717585061cb8"
      },
      "execution_count": 36,
      "outputs": [
        {
          "output_type": "stream",
          "name": "stdout",
          "text": [
            "['Ram', 'Uma', 'keerthi', 'ravi', 'shiva']\n"
          ]
        }
      ]
    },
    {
      "cell_type": "code",
      "source": [
        "names=[\"shiva\",\"ram\",\"keerthi\",\"ravi\",\"uma\"]\n",
        "names.reverse()\n",
        "print(names)"
      ],
      "metadata": {
        "colab": {
          "base_uri": "https://localhost:8080/"
        },
        "id": "pY3m0UNC64SM",
        "outputId": "424df095-ded1-4ec8-c945-a4add7ac7d10"
      },
      "execution_count": 37,
      "outputs": [
        {
          "output_type": "stream",
          "name": "stdout",
          "text": [
            "['uma', 'ravi', 'keerthi', 'ram', 'shiva']\n"
          ]
        }
      ]
    },
    {
      "cell_type": "code",
      "source": [
        "names=[\"shiva\",\"Ram\",\"keerthi\",\"ravi\",\"uma\"]\n",
        "names.sort(reverse= True)\n",
        "print(names)"
      ],
      "metadata": {
        "colab": {
          "base_uri": "https://localhost:8080/"
        },
        "id": "wqZa5Wfm6kl3",
        "outputId": "d99b67dc-e70b-497b-a195-24b94792310e"
      },
      "execution_count": 35,
      "outputs": [
        {
          "output_type": "stream",
          "name": "stdout",
          "text": [
            "['uma', 'shiva', 'ravi', 'keerthi', 'Ram']\n"
          ]
        }
      ]
    },
    {
      "cell_type": "code",
      "source": [
        "names=[\"shiva\",\"ram\",\"keerthi\",\"ravi\",\"uma\"]\n",
        "fruits= names.copy()\n",
        "print(fruits)"
      ],
      "metadata": {
        "colab": {
          "base_uri": "https://localhost:8080/"
        },
        "id": "rYTshwVm7C_n",
        "outputId": "ae176e59-8bfa-4f60-b638-ef9a11253909"
      },
      "execution_count": 38,
      "outputs": [
        {
          "output_type": "stream",
          "name": "stdout",
          "text": [
            "['shiva', 'ram', 'keerthi', 'ravi', 'uma']\n"
          ]
        }
      ]
    },
    {
      "cell_type": "code",
      "source": [
        "names=[\"shiva\",\"ram\",\"keerthi\",\"ravi\",\"uma\"]\n",
        "fruits= list(names)\n",
        "print(names)"
      ],
      "metadata": {
        "colab": {
          "base_uri": "https://localhost:8080/"
        },
        "id": "DSpUUr7m7VJi",
        "outputId": "92bfcc72-3d12-419c-d11d-3b34beaa6250"
      },
      "execution_count": 39,
      "outputs": [
        {
          "output_type": "stream",
          "name": "stdout",
          "text": [
            "['shiva', 'ram', 'keerthi', 'ravi', 'uma']\n"
          ]
        }
      ]
    },
    {
      "cell_type": "code",
      "source": [
        "names=[\"shiva\",\"ram\",\"keerthi\",\"ravi\",\"uma\"]\n",
        "fruits= [\"apple\",\"mango\",\"grapes\",\"banana\",\"orange\"]\n",
        "veg= [\"lady finger\",\"tomato\",\"brinjal\"]\n",
        "things= names+ fruits+ veg\n",
        "print(things)"
      ],
      "metadata": {
        "colab": {
          "base_uri": "https://localhost:8080/"
        },
        "id": "qhwUAMFz7jPN",
        "outputId": "c1d7c96d-2164-4ec3-a3e4-f10596bf3809"
      },
      "execution_count": 42,
      "outputs": [
        {
          "output_type": "stream",
          "name": "stdout",
          "text": [
            "['shiva', 'ram', 'keerthi', 'ravi', 'uma', 'apple', 'mango', 'grapes', 'banana', 'orange', 'lady finger', 'tomato', 'brinjal']\n"
          ]
        }
      ]
    },
    {
      "cell_type": "code",
      "source": [
        "names=[\"shiva\",\"ram\",\"keerthi\",\"ravi\",\"uma\"]\n",
        "numbers= [\"1\",\"2\",\"3\",\"4\"]\n",
        "names.extend(numbers)\n",
        "print(names)"
      ],
      "metadata": {
        "colab": {
          "base_uri": "https://localhost:8080/"
        },
        "id": "QEsGVJpJ8Hzh",
        "outputId": "9f623edf-bcb8-4187-cbac-297e62ced489"
      },
      "execution_count": 44,
      "outputs": [
        {
          "output_type": "stream",
          "name": "stdout",
          "text": [
            "['shiva', 'ram', 'keerthi', 'ravi', 'uma', '1', '2', '3', '4']\n"
          ]
        }
      ]
    },
    {
      "cell_type": "code",
      "source": [
        "names=[\"shiva\",\"ram\",\"keerthi\",\"ravi\",\"uma\",\"ravi\"]\n",
        "x = names.count(\"ravi\")\n",
        "print(x)"
      ],
      "metadata": {
        "colab": {
          "base_uri": "https://localhost:8080/"
        },
        "id": "5t9DBzRf8dpX",
        "outputId": "baa3f79d-43f4-44d1-e83e-e311820ebc77"
      },
      "execution_count": 51,
      "outputs": [
        {
          "output_type": "stream",
          "name": "stdout",
          "text": [
            "2\n"
          ]
        }
      ]
    },
    {
      "cell_type": "code",
      "source": [
        "names=[\"shiva\",\"ram\",\"keerthi\",\"ravi\",\"uma\"]\n",
        "x= names.index(\"uma\")\n",
        "print(x)"
      ],
      "metadata": {
        "colab": {
          "base_uri": "https://localhost:8080/"
        },
        "id": "CZipBPdH9F_k",
        "outputId": "b2f40ba2-5dd3-436b-942e-6cd73265f7d2"
      },
      "execution_count": 53,
      "outputs": [
        {
          "output_type": "stream",
          "name": "stdout",
          "text": [
            "4\n"
          ]
        }
      ]
    }
  ]
}