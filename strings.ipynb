{
  "nbformat": 4,
  "nbformat_minor": 0,
  "metadata": {
    "colab": {
      "name": "strings",
      "provenance": [],
      "authorship_tag": "ABX9TyMCA5SJxZNQXpcO57+RIviZ",
      "include_colab_link": true
    },
    "kernelspec": {
      "name": "python3",
      "display_name": "Python 3"
    },
    "language_info": {
      "name": "python"
    }
  },
  "cells": [
    {
      "cell_type": "markdown",
      "metadata": {
        "id": "view-in-github",
        "colab_type": "text"
      },
      "source": [
        "<a href=\"https://colab.research.google.com/github/VU21CSEN0101426/VAISHNAVI/blob/main/strings.ipynb\" target=\"_parent\"><img src=\"https://colab.research.google.com/assets/colab-badge.svg\" alt=\"Open In Colab\"/></a>"
      ]
    },
    {
      "cell_type": "code",
      "execution_count": 1,
      "metadata": {
        "colab": {
          "base_uri": "https://localhost:8080/"
        },
        "id": "qLU717PsWB9M",
        "outputId": "2a85940c-fe10-4504-99b4-fadf08b7ca7c"
      },
      "outputs": [
        {
          "output_type": "stream",
          "name": "stdout",
          "text": [
            "this is vaishnavi\n"
          ]
        }
      ],
      "source": [
        "a=\"this is vaishnavi\"\n",
        "print(a)"
      ]
    },
    {
      "cell_type": "code",
      "source": [
        "a=\"RRR is relesed on friday\"\n",
        "print(a.upper())"
      ],
      "metadata": {
        "colab": {
          "base_uri": "https://localhost:8080/"
        },
        "id": "O36nXU6oXevt",
        "outputId": "2eae2132-5f01-4665-fb23-711f6c1ee36f"
      },
      "execution_count": 2,
      "outputs": [
        {
          "output_type": "stream",
          "name": "stdout",
          "text": [
            "RRR IS RELESED ON FRIDAY\n"
          ]
        }
      ]
    },
    {
      "cell_type": "code",
      "source": [
        "a=\"RRR is relesed on friday\"\n",
        "print(a.lower())"
      ],
      "metadata": {
        "colab": {
          "base_uri": "https://localhost:8080/"
        },
        "id": "dHDq0UtmX-V0",
        "outputId": "50b3d787-6baa-4021-da4d-a97668db5eea"
      },
      "execution_count": 11,
      "outputs": [
        {
          "output_type": "stream",
          "name": "stdout",
          "text": [
            "rrr is relesed on friday\n"
          ]
        }
      ]
    },
    {
      "cell_type": "code",
      "source": [
        "a=\"   RRR is relesed on friday   \"\n",
        "print(a.strip())"
      ],
      "metadata": {
        "colab": {
          "base_uri": "https://localhost:8080/"
        },
        "id": "w_QYbsxxYLMz",
        "outputId": "8baeea7d-0e8f-481e-fa83-c8315bb41889"
      },
      "execution_count": 9,
      "outputs": [
        {
          "output_type": "stream",
          "name": "stdout",
          "text": [
            "RRR is relesed on friday\n"
          ]
        }
      ]
    },
    {
      "cell_type": "code",
      "source": [
        "a=\"RRR is relesed on friday\"\n",
        "print(a.replace(\"r\",\"e\"))"
      ],
      "metadata": {
        "colab": {
          "base_uri": "https://localhost:8080/"
        },
        "id": "bI-J_HbMYtnW",
        "outputId": "ddeec89d-76c8-489d-9bcc-a76c8547aac9"
      },
      "execution_count": 12,
      "outputs": [
        {
          "output_type": "stream",
          "name": "stdout",
          "text": [
            "RRR is eelesed on feiday\n"
          ]
        }
      ]
    },
    {
      "cell_type": "code",
      "source": [
        "a=\"RRR is relesed on friday\"\n",
        "print(a.split(\"R\"))"
      ],
      "metadata": {
        "colab": {
          "base_uri": "https://localhost:8080/"
        },
        "id": "jC4dFKQnZ2vl",
        "outputId": "f66a9b06-81a8-4d9b-8f44-a6f7f4df1fbd"
      },
      "execution_count": 17,
      "outputs": [
        {
          "output_type": "stream",
          "name": "stdout",
          "text": [
            "['', '', '', ' is relesed on friday']\n"
          ]
        }
      ]
    },
    {
      "cell_type": "code",
      "source": [
        "a=\"RRR is relesed on friday\"\n",
        "print(a.split())"
      ],
      "metadata": {
        "colab": {
          "base_uri": "https://localhost:8080/"
        },
        "id": "wVRwjt4rcSbE",
        "outputId": "c4ece240-108e-4109-e973-bae84ca3e603"
      },
      "execution_count": 18,
      "outputs": [
        {
          "output_type": "stream",
          "name": "stdout",
          "text": [
            "['RRR', 'is', 'relesed', 'on', 'friday']\n"
          ]
        }
      ]
    },
    {
      "cell_type": "code",
      "source": [
        "a=\"orange,mango,banana\"\n",
        "print(a.split())"
      ],
      "metadata": {
        "colab": {
          "base_uri": "https://localhost:8080/"
        },
        "id": "Xjnr-aPJdDop",
        "outputId": "7f156d80-e0f3-48af-b4e1-f21456aa59b5"
      },
      "execution_count": 19,
      "outputs": [
        {
          "output_type": "stream",
          "name": "stdout",
          "text": [
            "['orange,mango,banana']\n"
          ]
        }
      ]
    },
    {
      "cell_type": "code",
      "source": [
        "a=\"orange,mango,banana\"\n",
        "print(a.split(\",\"))"
      ],
      "metadata": {
        "colab": {
          "base_uri": "https://localhost:8080/"
        },
        "id": "1g275SkndO_i",
        "outputId": "67f0a4ba-aa35-41d1-d95b-7cfb6fa159d9"
      },
      "execution_count": 20,
      "outputs": [
        {
          "output_type": "stream",
          "name": "stdout",
          "text": [
            "['orange', 'mango', 'banana']\n"
          ]
        }
      ]
    },
    {
      "cell_type": "code",
      "source": [
        "a=10,20,30\n",
        "b=\"hello\"\n",
        "c=a+b\n",
        "print(c)"
      ],
      "metadata": {
        "colab": {
          "base_uri": "https://localhost:8080/",
          "height": 217
        },
        "id": "X1czzN4Sdkra",
        "outputId": "38b7f4bc-b201-4d41-db8e-c505c6a89a96"
      },
      "execution_count": 23,
      "outputs": [
        {
          "output_type": "error",
          "ename": "TypeError",
          "evalue": "ignored",
          "traceback": [
            "\u001b[0;31m---------------------------------------------------------------------------\u001b[0m",
            "\u001b[0;31mTypeError\u001b[0m                                 Traceback (most recent call last)",
            "\u001b[0;32m<ipython-input-23-2bc65663368f>\u001b[0m in \u001b[0;36m<module>\u001b[0;34m()\u001b[0m\n\u001b[1;32m      1\u001b[0m \u001b[0ma\u001b[0m\u001b[0;34m=\u001b[0m\u001b[0;36m10\u001b[0m\u001b[0;34m,\u001b[0m\u001b[0;36m20\u001b[0m\u001b[0;34m,\u001b[0m\u001b[0;36m30\u001b[0m\u001b[0;34m\u001b[0m\u001b[0;34m\u001b[0m\u001b[0m\n\u001b[1;32m      2\u001b[0m \u001b[0mb\u001b[0m\u001b[0;34m=\u001b[0m\u001b[0;34m\"hello\"\u001b[0m\u001b[0;34m\u001b[0m\u001b[0;34m\u001b[0m\u001b[0m\n\u001b[0;32m----> 3\u001b[0;31m \u001b[0mc\u001b[0m\u001b[0;34m=\u001b[0m\u001b[0ma\u001b[0m\u001b[0;34m+\u001b[0m\u001b[0mb\u001b[0m\u001b[0;34m\u001b[0m\u001b[0;34m\u001b[0m\u001b[0m\n\u001b[0m\u001b[1;32m      4\u001b[0m \u001b[0mprint\u001b[0m\u001b[0;34m(\u001b[0m\u001b[0mc\u001b[0m\u001b[0;34m)\u001b[0m\u001b[0;34m\u001b[0m\u001b[0;34m\u001b[0m\u001b[0m\n",
            "\u001b[0;31mTypeError\u001b[0m: can only concatenate tuple (not \"str\") to tuple"
          ]
        }
      ]
    },
    {
      "cell_type": "code",
      "source": [
        "a=\"this is\"\n",
        "b=\" vaishnavi \"\n",
        "c=a+b\n",
        "print(c)"
      ],
      "metadata": {
        "colab": {
          "base_uri": "https://localhost:8080/"
        },
        "id": "fi2JXlgDeBh5",
        "outputId": "19fa683c-2fe5-4358-e2c2-171a0d6869db"
      },
      "execution_count": 29,
      "outputs": [
        {
          "output_type": "stream",
          "name": "stdout",
          "text": [
            "this is vaishnavi \n"
          ]
        }
      ]
    },
    {
      "cell_type": "code",
      "source": [
        "a=\"this is\"\n",
        "b=\"vaishnavi\"\n",
        "c=a+ \" \"+b\n",
        "print(c)"
      ],
      "metadata": {
        "colab": {
          "base_uri": "https://localhost:8080/"
        },
        "id": "MbW0JX-yenMh",
        "outputId": "654f5994-1640-49f3-ffb1-86165d0047fc"
      },
      "execution_count": 32,
      "outputs": [
        {
          "output_type": "stream",
          "name": "stdout",
          "text": [
            "this is vaishnavi\n"
          ]
        }
      ]
    },
    {
      "cell_type": "code",
      "source": [
        "price= 500\n",
        "quantity= 1\n",
        "name= \"table\"\n",
        "myorder= \"I want to buy {1} {2} of price {0}\"\n",
        "print(myorder .format(price,quantity,name))"
      ],
      "metadata": {
        "colab": {
          "base_uri": "https://localhost:8080/"
        },
        "id": "mMlJRNFDi6qi",
        "outputId": "9d6c8c21-2486-4b3e-8901-809268317258"
      },
      "execution_count": 35,
      "outputs": [
        {
          "output_type": "stream",
          "name": "stdout",
          "text": [
            "I want to buy 1 table of price 500\n"
          ]
        }
      ]
    },
    {
      "cell_type": "code",
      "source": [
        "# format string\n",
        "sub1=int(input(\"enter the marks\"))\n",
        "sub2=int(input(\"enter the marks\"))\n",
        "sub3=int(input(\"enter the marks\"))\n",
        "sub4=int(input(\"enter the marks\"))\n",
        "marks=\"my maths marks are {0} , my physics marks are {1} , my chemistry marks are {2} , my social marks are {3}\"\n",
        "print(marks.format(sub1,sub2,sub3,sub4))"
      ],
      "metadata": {
        "colab": {
          "base_uri": "https://localhost:8080/"
        },
        "id": "elpIsBeYkhK4",
        "outputId": "32c5c8ca-5995-409e-e0e1-6c5b379fb253"
      },
      "execution_count": 37,
      "outputs": [
        {
          "output_type": "stream",
          "name": "stdout",
          "text": [
            "enter the marks84\n",
            "enter the marks85\n",
            "enter the marks86\n",
            "enter the marks87\n",
            "my maths marks are 84 , my physics marks are 85 , my chemistry marks are 86 , my social marks are 87\n"
          ]
        }
      ]
    },
    {
      "cell_type": "code",
      "source": [
        "#back space\n",
        "a=\"hello \\bvaishu\"\n",
        "print(a)"
      ],
      "metadata": {
        "colab": {
          "base_uri": "https://localhost:8080/"
        },
        "id": "pPkCz659mAxf",
        "outputId": "7f0833d8-c364-4aca-c3f5-05e3cb66fd11"
      },
      "execution_count": 48,
      "outputs": [
        {
          "output_type": "stream",
          "name": "stdout",
          "text": [
            "hello \bvaishu\n"
          ]
        }
      ]
    },
    {
      "cell_type": "code",
      "source": [
        "#new line\n",
        "a=\"hello \\nvaishu\"\n",
        "print(a)"
      ],
      "metadata": {
        "colab": {
          "base_uri": "https://localhost:8080/"
        },
        "id": "tSi4A1OtnR1E",
        "outputId": "c085f8f4-96d9-4f38-acf4-a3849398422c"
      },
      "execution_count": 53,
      "outputs": [
        {
          "output_type": "stream",
          "name": "stdout",
          "text": [
            "hello \n",
            "vaishu\n"
          ]
        }
      ]
    },
    {
      "cell_type": "code",
      "source": [
        "#tab\n",
        "a=\"hello \\tvaishu\"\n",
        "print(a)"
      ],
      "metadata": {
        "colab": {
          "base_uri": "https://localhost:8080/"
        },
        "id": "Q-4sitF9oAjG",
        "outputId": "acf028f7-26f3-4743-e54a-15746c67db58"
      },
      "execution_count": 56,
      "outputs": [
        {
          "output_type": "stream",
          "name": "stdout",
          "text": [
            "hello \tvaishu\n"
          ]
        }
      ]
    },
    {
      "cell_type": "code",
      "source": [
        "#octal\n",
        "a=\"\\110\\145\\154\\154\\157\"\n",
        "print(a)"
      ],
      "metadata": {
        "colab": {
          "base_uri": "https://localhost:8080/"
        },
        "id": "NMg3NgVvoV7E",
        "outputId": "ae87353b-a7f9-47fb-800c-1b7067e5d794"
      },
      "execution_count": 60,
      "outputs": [
        {
          "output_type": "stream",
          "name": "stdout",
          "text": [
            "Hello\n"
          ]
        }
      ]
    },
    {
      "cell_type": "code",
      "source": [
        "a=\"vaishnavi\"\n",
        "b=a.capitalize()\n",
        "print(b)"
      ],
      "metadata": {
        "colab": {
          "base_uri": "https://localhost:8080/"
        },
        "id": "Qgqa7GY-qbwd",
        "outputId": "de3b07c1-6c3d-4580-ed14-ad603355d783"
      },
      "execution_count": 61,
      "outputs": [
        {
          "output_type": "stream",
          "name": "stdout",
          "text": [
            "Vaishnavi\n"
          ]
        }
      ]
    },
    {
      "cell_type": "code",
      "source": [
        "a=\"VAISHANVI\"\n",
        "b=a.casefold()\n",
        "print(b)"
      ],
      "metadata": {
        "colab": {
          "base_uri": "https://localhost:8080/"
        },
        "id": "eXIvbiKTrAfV",
        "outputId": "45ab8a56-2f31-4284-e472-5c2a4c7b78c7"
      },
      "execution_count": 62,
      "outputs": [
        {
          "output_type": "stream",
          "name": "stdout",
          "text": [
            "vaishanvi\n"
          ]
        }
      ]
    },
    {
      "cell_type": "code",
      "source": [
        "a=\"vaishnavi\"\n",
        "b=a.center(45)\n",
        "print(b)"
      ],
      "metadata": {
        "colab": {
          "base_uri": "https://localhost:8080/"
        },
        "id": "oCnJF5xarOzb",
        "outputId": "9e57bd99-c8c0-48e7-ab63-e5a9dda33739"
      },
      "execution_count": 66,
      "outputs": [
        {
          "output_type": "stream",
          "name": "stdout",
          "text": [
            "                  vaishnavi                  \n"
          ]
        }
      ]
    },
    {
      "cell_type": "code",
      "source": [
        "a=\"hello world welcome to my world\"\n",
        "b=a.count(\"\")\n",
        "print(b)"
      ],
      "metadata": {
        "colab": {
          "base_uri": "https://localhost:8080/"
        },
        "id": "s77wHcrGrhak",
        "outputId": "0a3d8974-e3a3-4f40-bf7d-3babd71394d7"
      },
      "execution_count": 74,
      "outputs": [
        {
          "output_type": "stream",
          "name": "stdout",
          "text": [
            "32\n"
          ]
        }
      ]
    },
    {
      "cell_type": "code",
      "source": [
        "a=\"hello world welcome to my world\"\n",
        "b=a.count(\"hello\")\n",
        "print(b)"
      ],
      "metadata": {
        "colab": {
          "base_uri": "https://localhost:8080/"
        },
        "id": "a5aeBgMnsNLd",
        "outputId": "a01902fc-353e-4e18-e620-28fe26ed8710"
      },
      "execution_count": 75,
      "outputs": [
        {
          "output_type": "stream",
          "name": "stdout",
          "text": [
            "1\n"
          ]
        }
      ]
    },
    {
      "cell_type": "code",
      "source": [
        "a=\"hello world welcome to my world\"\n",
        "b=a.count(\"world\")\n",
        "print(b)"
      ],
      "metadata": {
        "colab": {
          "base_uri": "https://localhost:8080/"
        },
        "id": "ytvlHPe4sUHx",
        "outputId": "4ebdbed5-630f-4b94-bab0-dbe8d657f88d"
      },
      "execution_count": 76,
      "outputs": [
        {
          "output_type": "stream",
          "name": "stdout",
          "text": [
            "2\n"
          ]
        }
      ]
    }
  ]
}